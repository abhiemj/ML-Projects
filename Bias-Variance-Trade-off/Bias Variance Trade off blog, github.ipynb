{
 "cells": [
  {
   "cell_type": "code",
   "execution_count": 1,
   "id": "c69584aa",
   "metadata": {},
   "outputs": [],
   "source": [
    "import warnings\n",
    "warnings.filterwarnings(\"ignore\")\n",
    "import numpy as np \n",
    "import pandas as pd\n",
    "from sklearn.linear_model import LinearRegression\n",
    "from sklearn.model_selection import train_test_split\n",
    "from sklearn.preprocessing import OneHotEncoder\n",
    "import matplotlib.pyplot as plt"
   ]
  },
  {
   "cell_type": "markdown",
   "id": "dd1ae564",
   "metadata": {},
   "source": [
    "# Dataset Life Expectancy "
   ]
  },
  {
   "cell_type": "code",
   "execution_count": 2,
   "id": "f70d4a7b",
   "metadata": {},
   "outputs": [],
   "source": [
    "life_expectancy = pd.read_csv('Life Expectancy Data.csv')"
   ]
  },
  {
   "cell_type": "markdown",
   "id": "b87579d0",
   "metadata": {},
   "source": [
    "## Read the dataset"
   ]
  },
  {
   "cell_type": "code",
   "execution_count": 3,
   "id": "5f695c58",
   "metadata": {},
   "outputs": [
    {
     "data": {
      "text/html": [
       "<div>\n",
       "<style scoped>\n",
       "    .dataframe tbody tr th:only-of-type {\n",
       "        vertical-align: middle;\n",
       "    }\n",
       "\n",
       "    .dataframe tbody tr th {\n",
       "        vertical-align: top;\n",
       "    }\n",
       "\n",
       "    .dataframe thead th {\n",
       "        text-align: right;\n",
       "    }\n",
       "</style>\n",
       "<table border=\"1\" class=\"dataframe\">\n",
       "  <thead>\n",
       "    <tr style=\"text-align: right;\">\n",
       "      <th></th>\n",
       "      <th>Country</th>\n",
       "      <th>Year</th>\n",
       "      <th>Status</th>\n",
       "      <th>Life expectancy</th>\n",
       "      <th>Adult Mortality</th>\n",
       "      <th>infant deaths</th>\n",
       "      <th>Alcohol</th>\n",
       "      <th>percentage expenditure</th>\n",
       "      <th>Hepatitis B</th>\n",
       "      <th>Measles</th>\n",
       "      <th>...</th>\n",
       "      <th>Polio</th>\n",
       "      <th>Total expenditure</th>\n",
       "      <th>Diphtheria</th>\n",
       "      <th>HIV/AIDS</th>\n",
       "      <th>GDP</th>\n",
       "      <th>Population</th>\n",
       "      <th>thinness  1-19 years</th>\n",
       "      <th>thinness 5-9 years</th>\n",
       "      <th>Income composition of resources</th>\n",
       "      <th>Schooling</th>\n",
       "    </tr>\n",
       "  </thead>\n",
       "  <tbody>\n",
       "    <tr>\n",
       "      <th>0</th>\n",
       "      <td>Afghanistan</td>\n",
       "      <td>2015</td>\n",
       "      <td>Developing</td>\n",
       "      <td>65.0</td>\n",
       "      <td>263.0</td>\n",
       "      <td>62</td>\n",
       "      <td>0.01</td>\n",
       "      <td>71.279624</td>\n",
       "      <td>65.0</td>\n",
       "      <td>1154</td>\n",
       "      <td>...</td>\n",
       "      <td>6.0</td>\n",
       "      <td>8.16</td>\n",
       "      <td>65.0</td>\n",
       "      <td>0.1</td>\n",
       "      <td>584.259210</td>\n",
       "      <td>33736494.0</td>\n",
       "      <td>17.2</td>\n",
       "      <td>17.3</td>\n",
       "      <td>0.479</td>\n",
       "      <td>10.1</td>\n",
       "    </tr>\n",
       "    <tr>\n",
       "      <th>1</th>\n",
       "      <td>Afghanistan</td>\n",
       "      <td>2014</td>\n",
       "      <td>Developing</td>\n",
       "      <td>59.9</td>\n",
       "      <td>271.0</td>\n",
       "      <td>64</td>\n",
       "      <td>0.01</td>\n",
       "      <td>73.523582</td>\n",
       "      <td>62.0</td>\n",
       "      <td>492</td>\n",
       "      <td>...</td>\n",
       "      <td>58.0</td>\n",
       "      <td>8.18</td>\n",
       "      <td>62.0</td>\n",
       "      <td>0.1</td>\n",
       "      <td>612.696514</td>\n",
       "      <td>327582.0</td>\n",
       "      <td>17.5</td>\n",
       "      <td>17.5</td>\n",
       "      <td>0.476</td>\n",
       "      <td>10.0</td>\n",
       "    </tr>\n",
       "    <tr>\n",
       "      <th>2</th>\n",
       "      <td>Afghanistan</td>\n",
       "      <td>2013</td>\n",
       "      <td>Developing</td>\n",
       "      <td>59.9</td>\n",
       "      <td>268.0</td>\n",
       "      <td>66</td>\n",
       "      <td>0.01</td>\n",
       "      <td>73.219243</td>\n",
       "      <td>64.0</td>\n",
       "      <td>430</td>\n",
       "      <td>...</td>\n",
       "      <td>62.0</td>\n",
       "      <td>8.13</td>\n",
       "      <td>64.0</td>\n",
       "      <td>0.1</td>\n",
       "      <td>631.744976</td>\n",
       "      <td>31731688.0</td>\n",
       "      <td>17.7</td>\n",
       "      <td>17.7</td>\n",
       "      <td>0.470</td>\n",
       "      <td>9.9</td>\n",
       "    </tr>\n",
       "    <tr>\n",
       "      <th>3</th>\n",
       "      <td>Afghanistan</td>\n",
       "      <td>2012</td>\n",
       "      <td>Developing</td>\n",
       "      <td>59.5</td>\n",
       "      <td>272.0</td>\n",
       "      <td>69</td>\n",
       "      <td>0.01</td>\n",
       "      <td>78.184215</td>\n",
       "      <td>67.0</td>\n",
       "      <td>2787</td>\n",
       "      <td>...</td>\n",
       "      <td>67.0</td>\n",
       "      <td>8.52</td>\n",
       "      <td>67.0</td>\n",
       "      <td>0.1</td>\n",
       "      <td>669.959000</td>\n",
       "      <td>3696958.0</td>\n",
       "      <td>17.9</td>\n",
       "      <td>18.0</td>\n",
       "      <td>0.463</td>\n",
       "      <td>9.8</td>\n",
       "    </tr>\n",
       "    <tr>\n",
       "      <th>4</th>\n",
       "      <td>Afghanistan</td>\n",
       "      <td>2011</td>\n",
       "      <td>Developing</td>\n",
       "      <td>59.2</td>\n",
       "      <td>275.0</td>\n",
       "      <td>71</td>\n",
       "      <td>0.01</td>\n",
       "      <td>7.097109</td>\n",
       "      <td>68.0</td>\n",
       "      <td>3013</td>\n",
       "      <td>...</td>\n",
       "      <td>68.0</td>\n",
       "      <td>7.87</td>\n",
       "      <td>68.0</td>\n",
       "      <td>0.1</td>\n",
       "      <td>63.537231</td>\n",
       "      <td>2978599.0</td>\n",
       "      <td>18.2</td>\n",
       "      <td>18.2</td>\n",
       "      <td>0.454</td>\n",
       "      <td>9.5</td>\n",
       "    </tr>\n",
       "  </tbody>\n",
       "</table>\n",
       "<p>5 rows × 22 columns</p>\n",
       "</div>"
      ],
      "text/plain": [
       "       Country  Year      Status  Life expectancy   Adult Mortality  \\\n",
       "0  Afghanistan  2015  Developing              65.0            263.0   \n",
       "1  Afghanistan  2014  Developing              59.9            271.0   \n",
       "2  Afghanistan  2013  Developing              59.9            268.0   \n",
       "3  Afghanistan  2012  Developing              59.5            272.0   \n",
       "4  Afghanistan  2011  Developing              59.2            275.0   \n",
       "\n",
       "   infant deaths  Alcohol  percentage expenditure  Hepatitis B  Measles   ...  \\\n",
       "0             62     0.01               71.279624         65.0      1154  ...   \n",
       "1             64     0.01               73.523582         62.0       492  ...   \n",
       "2             66     0.01               73.219243         64.0       430  ...   \n",
       "3             69     0.01               78.184215         67.0      2787  ...   \n",
       "4             71     0.01                7.097109         68.0      3013  ...   \n",
       "\n",
       "   Polio  Total expenditure  Diphtheria    HIV/AIDS         GDP  Population  \\\n",
       "0    6.0               8.16         65.0        0.1  584.259210  33736494.0   \n",
       "1   58.0               8.18         62.0        0.1  612.696514    327582.0   \n",
       "2   62.0               8.13         64.0        0.1  631.744976  31731688.0   \n",
       "3   67.0               8.52         67.0        0.1  669.959000   3696958.0   \n",
       "4   68.0               7.87         68.0        0.1   63.537231   2978599.0   \n",
       "\n",
       "    thinness  1-19 years   thinness 5-9 years  \\\n",
       "0                   17.2                 17.3   \n",
       "1                   17.5                 17.5   \n",
       "2                   17.7                 17.7   \n",
       "3                   17.9                 18.0   \n",
       "4                   18.2                 18.2   \n",
       "\n",
       "   Income composition of resources  Schooling  \n",
       "0                            0.479       10.1  \n",
       "1                            0.476       10.0  \n",
       "2                            0.470        9.9  \n",
       "3                            0.463        9.8  \n",
       "4                            0.454        9.5  \n",
       "\n",
       "[5 rows x 22 columns]"
      ]
     },
     "execution_count": 3,
     "metadata": {},
     "output_type": "execute_result"
    }
   ],
   "source": [
    "life_expectancy.head()"
   ]
  },
  {
   "cell_type": "markdown",
   "id": "4ecb02ef",
   "metadata": {},
   "source": [
    "### Drop the categorical column"
   ]
  },
  {
   "cell_type": "code",
   "execution_count": 4,
   "id": "9665e252",
   "metadata": {},
   "outputs": [],
   "source": [
    "life_expectancy=life_expectancy.drop(columns=['Country','Status'])"
   ]
  },
  {
   "cell_type": "markdown",
   "id": "487fadca",
   "metadata": {},
   "source": [
    "## Check for Null values"
   ]
  },
  {
   "cell_type": "code",
   "execution_count": 6,
   "id": "a2302197",
   "metadata": {},
   "outputs": [
    {
     "data": {
      "text/plain": [
       "Year                                 0\n",
       "Life expectancy                     10\n",
       "Adult Mortality                     10\n",
       "infant deaths                        0\n",
       "Alcohol                            194\n",
       "percentage expenditure               0\n",
       "Hepatitis B                        553\n",
       "Measles                              0\n",
       " BMI                                34\n",
       "under-five deaths                    0\n",
       "Polio                               19\n",
       "Total expenditure                  226\n",
       "Diphtheria                          19\n",
       " HIV/AIDS                            0\n",
       "GDP                                448\n",
       "Population                         652\n",
       " thinness  1-19 years               34\n",
       " thinness 5-9 years                 34\n",
       "Income composition of resources    167\n",
       "Schooling                          163\n",
       "dtype: int64"
      ]
     },
     "execution_count": 6,
     "metadata": {},
     "output_type": "execute_result"
    }
   ],
   "source": [
    "life_expectancy.isna().sum()"
   ]
  },
  {
   "cell_type": "markdown",
   "id": "0172b909",
   "metadata": {},
   "source": [
    "#### Drop Them"
   ]
  },
  {
   "cell_type": "code",
   "execution_count": 7,
   "id": "de06e149",
   "metadata": {},
   "outputs": [],
   "source": [
    "life_expectancy=life_expectancy.dropna()"
   ]
  },
  {
   "cell_type": "code",
   "execution_count": 8,
   "id": "8dc64641",
   "metadata": {},
   "outputs": [
    {
     "data": {
      "text/plain": [
       "Year                               0\n",
       "Life expectancy                    0\n",
       "Adult Mortality                    0\n",
       "infant deaths                      0\n",
       "Alcohol                            0\n",
       "percentage expenditure             0\n",
       "Hepatitis B                        0\n",
       "Measles                            0\n",
       " BMI                               0\n",
       "under-five deaths                  0\n",
       "Polio                              0\n",
       "Total expenditure                  0\n",
       "Diphtheria                         0\n",
       " HIV/AIDS                          0\n",
       "GDP                                0\n",
       "Population                         0\n",
       " thinness  1-19 years              0\n",
       " thinness 5-9 years                0\n",
       "Income composition of resources    0\n",
       "Schooling                          0\n",
       "dtype: int64"
      ]
     },
     "execution_count": 8,
     "metadata": {},
     "output_type": "execute_result"
    }
   ],
   "source": [
    "life_expectancy.isna().sum()"
   ]
  },
  {
   "cell_type": "markdown",
   "id": "30b666af",
   "metadata": {},
   "source": [
    "# Define function to calculate Variance and Bias"
   ]
  },
  {
   "cell_type": "code",
   "execution_count": 9,
   "id": "5b818b5f",
   "metadata": {},
   "outputs": [],
   "source": [
    "# calculate variance and bias for a given model\n",
    "def calc_var_bias(features,df,label,no_of_samples):\n",
    "    # make a list of all three\n",
    "    variance = []\n",
    "    bias = []\n",
    "    number_of_features = []\n",
    "    # run a loop for number of features to be selected\n",
    "    for j in np.arange(1,df.shape[1]):\n",
    "        # increase features one by one \n",
    "        X= features.iloc[:,0:j]\n",
    "        # decide label\n",
    "        y= df[label]\n",
    "        # define no. of samples to be selected of population\n",
    "        k = no_of_samples\n",
    "        # prediction list\n",
    "        predictions = []\n",
    "        # make and empty dataframe and append predicted values\n",
    "        pred_df = pd.DataFrame()\n",
    "        # split the data\n",
    "        X_train,X_test,y_train,y_test = train_test_split(X,y,test_size=0.35,random_state = 3)\n",
    "        \n",
    "        #run a loop to split the no of samples to be selected\n",
    "        for i in np.arange(k):\n",
    "            \n",
    "            # fit the model\n",
    "            lm = LinearRegression().fit(X_train,y_train)\n",
    "            #predict using test dataset\n",
    "            y_hat = lm.predict(X_test)\n",
    "            # append in the list\n",
    "            predictions.append(y_hat)\n",
    "            # concatenate the prediction to df in columns\n",
    "            pred_df = pd.concat([pred_df,pd.DataFrame(predictions[i])],axis = 1)\n",
    "\n",
    "        # Assign an empty array to caculate var  \n",
    "        var = np.array([])\n",
    "        \n",
    "        # run a loop to calculate variance \n",
    "        for i in np.arange(pred_df.shape[0]):\n",
    "            ## append var\n",
    "            var = np.append(var,np.var(pred_df.iloc[i,:]))\n",
    "            \n",
    "        # calculate mean of prediction\n",
    "        pred_df ['rowmean'] = pred_df.mean(axis = 1)\n",
    "        # calculate bias\n",
    "        gap = np.array(y_test)-np.array(pred_df.rowmean)\n",
    "        # append all of these to lists\n",
    "        variance.append(np.mean(var))\n",
    "        bias.append(np.mean(gap**2))\n",
    "        number_of_features.append(j)\n",
    "    return variance,bias,number_of_features"
   ]
  },
  {
   "cell_type": "markdown",
   "id": "da3175c4",
   "metadata": {},
   "source": [
    "### Select features"
   ]
  },
  {
   "cell_type": "code",
   "execution_count": 10,
   "id": "cb58f711",
   "metadata": {},
   "outputs": [],
   "source": [
    "life_expectancy_features=life_expectancy.drop(columns='Life expectancy ')"
   ]
  },
  {
   "cell_type": "markdown",
   "id": "6a22ba90",
   "metadata": {},
   "source": [
    "### call the function"
   ]
  },
  {
   "cell_type": "code",
   "execution_count": 11,
   "id": "afe645a8",
   "metadata": {},
   "outputs": [],
   "source": [
    "life_var,life_bias,life_features = calc_var_bias(life_expectancy_features,life_expectancy,'Life expectancy ',5)"
   ]
  },
  {
   "cell_type": "markdown",
   "id": "30719102",
   "metadata": {},
   "source": [
    "## Plot Bias Vs Model complexity"
   ]
  },
  {
   "cell_type": "code",
   "execution_count": 12,
   "id": "6177f538",
   "metadata": {},
   "outputs": [
    {
     "data": {
      "image/png": "[encoded data removed]",
      "text/plain": [
       "<Figure size 1000x500 with 1 Axes>"
      ]
     },
     "metadata": {},
     "output_type": "display_data"
    }
   ],
   "source": [
    "plt.figure(figsize = (10,5))\n",
    "plt.plot(life_features,life_bias)\n",
    "plt.xticks(range(1,20))\n",
    "plt.xlabel('Model complexity')\n",
    "plt.ylabel('Bias')\n",
    "plt.title('Bias vs Model complexity')\n",
    "plt.show()"
   ]
  },
  {
   "cell_type": "markdown",
   "id": "8be1d143",
   "metadata": {},
   "source": [
    "## As model complexity increase Bias is reducing"
   ]
  },
  {
   "cell_type": "markdown",
   "id": "6daedc76",
   "metadata": {},
   "source": [
    "### Plot Variance Vs Model Complexity"
   ]
  },
  {
   "cell_type": "code",
   "execution_count": 14,
   "id": "4a04e2fc",
   "metadata": {},
   "outputs": [
    {
     "data": {
      "image/png": "[encoded data removed]",
      "text/plain": [
       "<Figure size 1000x500 with 1 Axes>"
      ]
     },
     "metadata": {},
     "output_type": "display_data"
    }
   ],
   "source": [
    "plt.figure(figsize = (10,5))\n",
    "plt.plot(life_features,life_var)\n",
    "plt.xticks(range(1,20))\n",
    "plt.xlabel('Model complexity')\n",
    "plt.ylabel('Variance')\n",
    "plt.title('Variance vs Model complexity')\n",
    "plt.show()"
   ]
  },
  {
   "cell_type": "markdown",
   "id": "f3a01278",
   "metadata": {},
   "source": [
    "If you observe a pattern where the variance of our model first increases, then decreases, then increases again, and finally continues to increase continuously, it suggests that our model is going through different stages of complexity and performance.\n",
    "\n",
    "Here's a possible explanation for this pattern:\n",
    "\n",
    "Initial Stage: Low Complexity, High Bias - At the beginning, our model has low complexity, which means it is too simple to capture the underlying patterns in the data. Consequently, the model suffers from high bias, leading to underfitting. In this stage, the variance is low because the model is consistently producing similar predictions, albeit with poor accuracy.\n",
    "\n",
    "Increasing Complexity: Decreasing Bias, Increasing Variance - As we increase the complexity of our model, it gains more capacity to capture intricate patterns in the data. This helps in reducing bias, allowing the model to fit the training data better. However, as the complexity increases, the model becomes more sensitive to the specific training instances it encounters. This leads to an increase in variance, as the predictions start to vary across different subsets of the training data.\n",
    "\n",
    "Optimal Complexity: Balanced Bias and Variance - There comes a point where increasing the model complexity helps to strike a balance between bias and variance, leading to optimal performance. In this stage, the model achieves a good trade-off between capturing the underlying patterns in the data and generalizing well to unseen examples. The variance is relatively low because the model produces consistent and accurate predictions across different subsets of the data.\n",
    "\n",
    "Overfitting: Increasing Complexity, High Variance - If you continue to increase the model complexity beyond the optimal point, the model starts to overfit the training data. It becomes too specialized to the noise and random fluctuations present in the training instances. As a result, the model's predictions become highly sensitive to the training data, leading to an increase in variance.\n",
    "\n",
    "Continuous Increase in Complexity: Continuously Increasing Variance - If you keep pushing the model's complexity even further, without appropriate regularization or model selection techniques, the variance will continue to increase. The model becomes excessively flexible and fails to generalize well to unseen data. It memorizes the noise and random fluctuations, resulting in highly variable predictions across different subsets of the training data.\n",
    "\n",
    "To achieve the best model performance, you need to identify the optimal level of complexity, where the bias and variance are balanced. Regularization techniques like L1/L2 regularization, dropout, or early stopping can help prevent overfitting and control the model's complexity, leading to improved generalization on unseen data."
   ]
  }
 ],
 "metadata": {
  "kernelspec": {
   "display_name": "Python 3 (ipykernel)",
   "language": "python",
   "name": "python3"
  },
  "language_info": {
   "codemirror_mode": {
    "name": "ipython",
    "version": 3
   },
   "file_extension": ".py",
   "mimetype": "text/x-python",
   "name": "python",
   "nbconvert_exporter": "python",
   "pygments_lexer": "ipython3",
   "version": "3.9.13"
  }
 },
 "nbformat": 4,
 "nbformat_minor": 5
}
