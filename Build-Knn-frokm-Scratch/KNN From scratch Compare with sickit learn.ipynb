{
 "cells": [
  {
   "cell_type": "code",
   "execution_count": 127,
   "id": "e8715a10",
   "metadata": {},
   "outputs": [],
   "source": [
    "import numpy as np\n",
    "import pandas as pd\n",
    "from sklearn.neighbors import KNeighborsRegressor\n",
    "from sklearn.metrics import mean_absolute_percentage_error\n",
    "from sklearn.model_selection import train_test_split"
   ]
  },
  {
   "cell_type": "code",
   "execution_count": 128,
   "id": "a812a1c5",
   "metadata": {},
   "outputs": [],
   "source": [
    "train = pd.read_excel('knn.xlsx')\n",
    "test = pd.read_excel('knn.xlsx',1)"
   ]
  },
  {
   "cell_type": "markdown",
   "id": "1ddb8527",
   "metadata": {},
   "source": [
    "## [A] **Pseudo Code** \n",
    "\n",
    "- Take first test row\n",
    "- Calculate the Euclidean distance from all the training points\n",
    "- Sort the df on basis of distance\n",
    "- Use k = 3 as neighbors\n",
    "- calculate the average of the values for prediction"
   ]
  },
  {
   "cell_type": "markdown",
   "id": "2f4e4539",
   "metadata": {},
   "source": [
    "## [B] Read the train data"
   ]
  },
  {
   "cell_type": "code",
   "execution_count": 129,
   "id": "6640954f",
   "metadata": {},
   "outputs": [
    {
     "data": {
      "text/html": [
       "<div>\n",
       "<style scoped>\n",
       "    .dataframe tbody tr th:only-of-type {\n",
       "        vertical-align: middle;\n",
       "    }\n",
       "\n",
       "    .dataframe tbody tr th {\n",
       "        vertical-align: top;\n",
       "    }\n",
       "\n",
       "    .dataframe thead th {\n",
       "        text-align: right;\n",
       "    }\n",
       "</style>\n",
       "<table border=\"1\" class=\"dataframe\">\n",
       "  <thead>\n",
       "    <tr style=\"text-align: right;\">\n",
       "      <th></th>\n",
       "      <th>X1</th>\n",
       "      <th>X2</th>\n",
       "      <th>X3</th>\n",
       "      <th>y</th>\n",
       "    </tr>\n",
       "  </thead>\n",
       "  <tbody>\n",
       "    <tr>\n",
       "      <th>0</th>\n",
       "      <td>-0.059533</td>\n",
       "      <td>0.763686</td>\n",
       "      <td>0.317046</td>\n",
       "      <td>-0.070229</td>\n",
       "    </tr>\n",
       "    <tr>\n",
       "      <th>1</th>\n",
       "      <td>1.916473</td>\n",
       "      <td>-0.378508</td>\n",
       "      <td>-0.411538</td>\n",
       "      <td>1.887648</td>\n",
       "    </tr>\n",
       "    <tr>\n",
       "      <th>2</th>\n",
       "      <td>-0.237390</td>\n",
       "      <td>-0.244097</td>\n",
       "      <td>-1.053888</td>\n",
       "      <td>-0.316625</td>\n",
       "    </tr>\n",
       "  </tbody>\n",
       "</table>\n",
       "</div>"
      ],
      "text/plain": [
       "         X1        X2        X3         y\n",
       "0 -0.059533  0.763686  0.317046 -0.070229\n",
       "1  1.916473 -0.378508 -0.411538  1.887648\n",
       "2 -0.237390 -0.244097 -1.053888 -0.316625"
      ]
     },
     "execution_count": 129,
     "metadata": {},
     "output_type": "execute_result"
    }
   ],
   "source": [
    "train.head(3)"
   ]
  },
  {
   "cell_type": "markdown",
   "id": "78a4bc76",
   "metadata": {},
   "source": [
    "## [C] Read the test data"
   ]
  },
  {
   "cell_type": "code",
   "execution_count": 130,
   "id": "0ed80e19",
   "metadata": {},
   "outputs": [
    {
     "data": {
      "text/html": [
       "<div>\n",
       "<style scoped>\n",
       "    .dataframe tbody tr th:only-of-type {\n",
       "        vertical-align: middle;\n",
       "    }\n",
       "\n",
       "    .dataframe tbody tr th {\n",
       "        vertical-align: top;\n",
       "    }\n",
       "\n",
       "    .dataframe thead th {\n",
       "        text-align: right;\n",
       "    }\n",
       "</style>\n",
       "<table border=\"1\" class=\"dataframe\">\n",
       "  <thead>\n",
       "    <tr style=\"text-align: right;\">\n",
       "      <th></th>\n",
       "      <th>X1</th>\n",
       "      <th>X2</th>\n",
       "      <th>X3</th>\n",
       "      <th>y</th>\n",
       "    </tr>\n",
       "  </thead>\n",
       "  <tbody>\n",
       "    <tr>\n",
       "      <th>0</th>\n",
       "      <td>0.295855</td>\n",
       "      <td>0.145806</td>\n",
       "      <td>1.381112</td>\n",
       "      <td>0.408699</td>\n",
       "    </tr>\n",
       "  </tbody>\n",
       "</table>\n",
       "</div>"
      ],
      "text/plain": [
       "         X1        X2        X3         y\n",
       "0  0.295855  0.145806  1.381112  0.408699"
      ]
     },
     "execution_count": 130,
     "metadata": {},
     "output_type": "execute_result"
    }
   ],
   "source": [
    "test.head(1)"
   ]
  },
  {
   "cell_type": "markdown",
   "id": "6c0fd1bc",
   "metadata": {},
   "source": [
    "## [D] **First row of train**"
   ]
  },
  {
   "cell_type": "code",
   "execution_count": 131,
   "id": "ad1e434b",
   "metadata": {},
   "outputs": [
    {
     "data": {
      "text/html": [
       "<div>\n",
       "<style scoped>\n",
       "    .dataframe tbody tr th:only-of-type {\n",
       "        vertical-align: middle;\n",
       "    }\n",
       "\n",
       "    .dataframe tbody tr th {\n",
       "        vertical-align: top;\n",
       "    }\n",
       "\n",
       "    .dataframe thead th {\n",
       "        text-align: right;\n",
       "    }\n",
       "</style>\n",
       "<table border=\"1\" class=\"dataframe\">\n",
       "  <thead>\n",
       "    <tr style=\"text-align: right;\">\n",
       "      <th></th>\n",
       "      <th>X1</th>\n",
       "      <th>X2</th>\n",
       "      <th>X3</th>\n",
       "    </tr>\n",
       "  </thead>\n",
       "  <tbody>\n",
       "    <tr>\n",
       "      <th>0</th>\n",
       "      <td>-0.059533</td>\n",
       "      <td>0.763686</td>\n",
       "      <td>0.317046</td>\n",
       "    </tr>\n",
       "  </tbody>\n",
       "</table>\n",
       "</div>"
      ],
      "text/plain": [
       "         X1        X2        X3\n",
       "0 -0.059533  0.763686  0.317046"
      ]
     },
     "execution_count": 131,
     "metadata": {},
     "output_type": "execute_result"
    }
   ],
   "source": [
    "train.iloc[:1,:-1]"
   ]
  },
  {
   "cell_type": "markdown",
   "id": "6f33e821",
   "metadata": {},
   "source": [
    "## [E]**Calculate the distance**"
   ]
  },
  {
   "cell_type": "code",
   "execution_count": 132,
   "id": "26bc84a1",
   "metadata": {},
   "outputs": [],
   "source": [
    "a = []\n",
    "for i in range(train.shape[0]):\n",
    "    a.append(np.sqrt((train.iloc[i,0] - test.iloc[0,0])**2 + (train.iloc[i,1] - test.iloc[0,1])**2 + (train.iloc[i,2] - test.iloc[0,2])**2))"
   ]
  },
  {
   "cell_type": "markdown",
   "id": "7871739e",
   "metadata": {},
   "source": [
    "## [F] Assign Distance to DataFrame"
   ]
  },
  {
   "cell_type": "code",
   "execution_count": 133,
   "id": "953ba60c",
   "metadata": {},
   "outputs": [],
   "source": [
    "train['Distance'] = a"
   ]
  },
  {
   "cell_type": "code",
   "execution_count": 134,
   "id": "965ee5e9",
   "metadata": {},
   "outputs": [
    {
     "data": {
      "text/html": [
       "<div>\n",
       "<style scoped>\n",
       "    .dataframe tbody tr th:only-of-type {\n",
       "        vertical-align: middle;\n",
       "    }\n",
       "\n",
       "    .dataframe tbody tr th {\n",
       "        vertical-align: top;\n",
       "    }\n",
       "\n",
       "    .dataframe thead th {\n",
       "        text-align: right;\n",
       "    }\n",
       "</style>\n",
       "<table border=\"1\" class=\"dataframe\">\n",
       "  <thead>\n",
       "    <tr style=\"text-align: right;\">\n",
       "      <th></th>\n",
       "      <th>X1</th>\n",
       "      <th>X2</th>\n",
       "      <th>X3</th>\n",
       "      <th>y</th>\n",
       "      <th>Distance</th>\n",
       "    </tr>\n",
       "  </thead>\n",
       "  <tbody>\n",
       "    <tr>\n",
       "      <th>0</th>\n",
       "      <td>-0.059533</td>\n",
       "      <td>0.763686</td>\n",
       "      <td>0.317046</td>\n",
       "      <td>-0.070229</td>\n",
       "      <td>1.280747</td>\n",
       "    </tr>\n",
       "    <tr>\n",
       "      <th>1</th>\n",
       "      <td>1.916473</td>\n",
       "      <td>-0.378508</td>\n",
       "      <td>-0.411538</td>\n",
       "      <td>1.887648</td>\n",
       "      <td>2.472832</td>\n",
       "    </tr>\n",
       "    <tr>\n",
       "      <th>2</th>\n",
       "      <td>-0.237390</td>\n",
       "      <td>-0.244097</td>\n",
       "      <td>-1.053888</td>\n",
       "      <td>-0.316625</td>\n",
       "      <td>2.523014</td>\n",
       "    </tr>\n",
       "  </tbody>\n",
       "</table>\n",
       "</div>"
      ],
      "text/plain": [
       "         X1        X2        X3         y  Distance\n",
       "0 -0.059533  0.763686  0.317046 -0.070229  1.280747\n",
       "1  1.916473 -0.378508 -0.411538  1.887648  2.472832\n",
       "2 -0.237390 -0.244097 -1.053888 -0.316625  2.523014"
      ]
     },
     "execution_count": 134,
     "metadata": {},
     "output_type": "execute_result"
    }
   ],
   "source": [
    "train.head(3)"
   ]
  },
  {
   "cell_type": "markdown",
   "id": "3101ade6",
   "metadata": {},
   "source": [
    "## [G] Sort Data Frame according to distance."
   ]
  },
  {
   "cell_type": "code",
   "execution_count": 135,
   "id": "65290f9d",
   "metadata": {},
   "outputs": [],
   "source": [
    "train.sort_values(by='Distance',ascending = False,inplace = True)"
   ]
  },
  {
   "cell_type": "code",
   "execution_count": 136,
   "id": "91bf0d88",
   "metadata": {},
   "outputs": [
    {
     "data": {
      "text/html": [
       "<div>\n",
       "<style scoped>\n",
       "    .dataframe tbody tr th:only-of-type {\n",
       "        vertical-align: middle;\n",
       "    }\n",
       "\n",
       "    .dataframe tbody tr th {\n",
       "        vertical-align: top;\n",
       "    }\n",
       "\n",
       "    .dataframe thead th {\n",
       "        text-align: right;\n",
       "    }\n",
       "</style>\n",
       "<table border=\"1\" class=\"dataframe\">\n",
       "  <thead>\n",
       "    <tr style=\"text-align: right;\">\n",
       "      <th></th>\n",
       "      <th>X1</th>\n",
       "      <th>X2</th>\n",
       "      <th>X3</th>\n",
       "      <th>y</th>\n",
       "      <th>Distance</th>\n",
       "    </tr>\n",
       "  </thead>\n",
       "  <tbody>\n",
       "    <tr>\n",
       "      <th>405</th>\n",
       "      <td>-0.669045</td>\n",
       "      <td>-0.683216</td>\n",
       "      <td>-3.246964</td>\n",
       "      <td>-0.917070</td>\n",
       "      <td>4.799728</td>\n",
       "    </tr>\n",
       "    <tr>\n",
       "      <th>330</th>\n",
       "      <td>-0.833632</td>\n",
       "      <td>-2.825045</td>\n",
       "      <td>-2.018151</td>\n",
       "      <td>-0.862319</td>\n",
       "      <td>4.653674</td>\n",
       "    </tr>\n",
       "    <tr>\n",
       "      <th>11</th>\n",
       "      <td>-1.162052</td>\n",
       "      <td>0.055817</td>\n",
       "      <td>-2.825190</td>\n",
       "      <td>-1.407580</td>\n",
       "      <td>4.452703</td>\n",
       "    </tr>\n",
       "  </tbody>\n",
       "</table>\n",
       "</div>"
      ],
      "text/plain": [
       "           X1        X2        X3         y  Distance\n",
       "405 -0.669045 -0.683216 -3.246964 -0.917070  4.799728\n",
       "330 -0.833632 -2.825045 -2.018151 -0.862319  4.653674\n",
       "11  -1.162052  0.055817 -2.825190 -1.407580  4.452703"
      ]
     },
     "execution_count": 136,
     "metadata": {},
     "output_type": "execute_result"
    }
   ],
   "source": [
    "train.head(3)"
   ]
  },
  {
   "cell_type": "markdown",
   "id": "d8746381",
   "metadata": {},
   "source": [
    "## [H] Calculate the prediction for k=3 nearest neighbors"
   ]
  },
  {
   "cell_type": "code",
   "execution_count": 137,
   "id": "95f2e658",
   "metadata": {},
   "outputs": [],
   "source": [
    "pred_y = (train.iloc[0,3]+train.iloc[1,3]+train.iloc[2,3])/3"
   ]
  },
  {
   "cell_type": "code",
   "execution_count": 138,
   "id": "ee0caa5d",
   "metadata": {},
   "outputs": [
    {
     "data": {
      "text/plain": [
       "-1.0623228694604894"
      ]
     },
     "execution_count": 138,
     "metadata": {},
     "output_type": "execute_result"
    }
   ],
   "source": [
    "pred_y"
   ]
  },
  {
   "cell_type": "markdown",
   "id": "3b0a8cf9",
   "metadata": {},
   "source": [
    "## Define a Function to calculate for all test row "
   ]
  },
  {
   "cell_type": "code",
   "execution_count": 139,
   "id": "3305c506",
   "metadata": {},
   "outputs": [
    {
     "data": {
      "text/plain": [
       "0.4335604638213741"
      ]
     },
     "execution_count": 139,
     "metadata": {},
     "output_type": "execute_result"
    }
   ],
   "source": [
    "prediction = []\n",
    "for j in range(test.shape[0]):\n",
    "    Distances = []\n",
    "    for i in range(train.shape[0]):\n",
    "        distance=np.sqrt((train.iloc[i,0] - test.iloc[j,0])**2 + (train.iloc[i,1] - test.iloc[j,1])**2 + (train.iloc[i,2] - test.iloc[j,2])**2)\n",
    "        Distances.append(distance)\n",
    "    train['Distance'] = Distances\n",
    "    sorted_result=train.sort_values(by=\"Distance\")\n",
    "    predicted_value = sorted_result.iloc[0:3,-2].mean()\n",
    "    prediction.append(predicted_value)\n",
    "np.mean(np.abs((test['y'] - prediction)/test['y']))"
   ]
  },
  {
   "cell_type": "markdown",
   "id": "c8519d56",
   "metadata": {},
   "source": [
    "## Calculate the MAPE from sickit learn"
   ]
  },
  {
   "cell_type": "code",
   "execution_count": 140,
   "id": "d05cde1d",
   "metadata": {},
   "outputs": [
    {
     "data": {
      "text/plain": [
       "0.4335604638213743"
      ]
     },
     "execution_count": 140,
     "metadata": {},
     "output_type": "execute_result"
    }
   ],
   "source": [
    "model=KNeighborsRegressor(n_neighbors=3)\n",
    "model.fit(train[[\"X1\",\"X2\",\"X3\"]],train[\"y\"])\n",
    "y_pre=model.predict(test[[\"X1\",\"X2\",\"X3\"]])\n",
    "mean_absolute_percentage_error(y_test, y_pre)"
   ]
  }
 ],
 "metadata": {
  "kernelspec": {
   "display_name": "Python 3 (ipykernel)",
   "language": "python",
   "name": "python3"
  },
  "language_info": {
   "codemirror_mode": {
    "name": "ipython",
    "version": 3
   },
   "file_extension": ".py",
   "mimetype": "text/x-python",
   "name": "python",
   "nbconvert_exporter": "python",
   "pygments_lexer": "ipython3",
   "version": "3.9.13"
  }
 },
 "nbformat": 4,
 "nbformat_minor": 5
}
